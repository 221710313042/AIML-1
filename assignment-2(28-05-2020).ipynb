{
 "cells": [
  {
   "cell_type": "markdown",
   "metadata": {},
   "source": [
    "# CSE-221710313039-MALLIKA REDDY"
   ]
  },
  {
   "cell_type": "code",
   "execution_count": 1,
   "metadata": {},
   "outputs": [
    {
     "name": "stdout",
     "output_type": "stream",
     "text": [
      "enter your own string:mallika@#$\n",
      "vowels:  3\n",
      "consonants:  4\n",
      "special characters:  3\n"
     ]
    }
   ],
   "source": [
    "#count no.of vowels,consonants and special characters\n",
    "string = input(\"enter your own string:\")\n",
    "vowels = consonants = special_chars = 0\n",
    "for i in string:\n",
    "    if(i>='a' and i<='z'):\n",
    "        if(i=='a' or i=='e' or i=='i' or i=='o' or i=='u'):\n",
    "            vowels += 1\n",
    "        else:\n",
    "            consonants += 1\n",
    "    else:\n",
    "        special_chars += 1\n",
    "print( \"vowels: \", vowels)\n",
    "print( \"consonants: \", consonants)\n",
    "print( \"special characters: \", special_chars)"
   ]
  },
  {
   "cell_type": "code",
   "execution_count": 2,
   "metadata": {},
   "outputs": [
    {
     "name": "stdout",
     "output_type": "stream",
     "text": [
      "enter score between 0.0 and 1.0:0.9\n",
      "A\n"
     ]
    }
   ],
   "source": [
    "# print a grade using the given table:\n",
    "score=float(input(\"enter score between 0.0 and 1.0:\"))\n",
    "if score>1.0 or score<0.0 :\n",
    "    print(\"error\")\n",
    "elif score>=0.9:\n",
    "    print(\"A\")\n",
    "elif score>=0.8:\n",
    "    print(\"B\")\n",
    "elif score>=0.7:\n",
    "    print(\"C\")\n",
    "elif score>=0.6:\n",
    "    print(\"D\")\n",
    "else:\n",
    "    print(\"F\")"
   ]
  },
  {
   "cell_type": "code",
   "execution_count": 3,
   "metadata": {},
   "outputs": [
    {
     "name": "stdout",
     "output_type": "stream",
     "text": [
      "fizzbuzz\n",
      "0\n",
      "1\n",
      "2\n",
      "fizz\n",
      "3\n",
      "4\n",
      "buzz\n",
      "5\n",
      "fizz\n",
      "6\n",
      "7\n",
      "8\n",
      "fizz\n",
      "9\n",
      "buzz\n",
      "10\n",
      "11\n",
      "fizz\n",
      "12\n",
      "13\n",
      "14\n",
      "fizzbuzz\n",
      "15\n",
      "16\n",
      "17\n",
      "fizz\n",
      "18\n",
      "19\n",
      "buzz\n",
      "20\n",
      "fizz\n",
      "21\n",
      "22\n",
      "23\n",
      "fizz\n",
      "24\n",
      "buzz\n",
      "25\n",
      "26\n",
      "fizz\n",
      "27\n",
      "28\n",
      "29\n",
      "fizzbuzz\n",
      "30\n",
      "31\n",
      "32\n",
      "fizz\n",
      "33\n",
      "34\n",
      "buzz\n",
      "35\n",
      "fizz\n",
      "36\n",
      "37\n",
      "38\n",
      "fizz\n",
      "39\n",
      "buzz\n",
      "40\n",
      "41\n",
      "fizz\n",
      "42\n",
      "43\n",
      "44\n",
      "fizzbuzz\n",
      "45\n",
      "46\n",
      "47\n",
      "fizz\n",
      "48\n",
      "49\n",
      "buzz\n",
      "50\n"
     ]
    }
   ],
   "source": [
    "#FIZZBUZZ program\n",
    "for fizzbuzz in range(51):\n",
    "    if fizzbuzz % 3 ==0 and fizzbuzz % 5 ==0:\n",
    "        print(\"fizzbuzz\")\n",
    "    elif fizzbuzz % 3 ==0:\n",
    "        print(\"fizz\")\n",
    "    elif fizzbuzz % 5 ==0:\n",
    "        print(\"buzz\")\n",
    "    print(fizzbuzz)"
   ]
  },
  {
   "cell_type": "code",
   "execution_count": 4,
   "metadata": {},
   "outputs": [
    {
     "name": "stdout",
     "output_type": "stream",
     "text": [
      "enter first number:2\n",
      "enter second number:6\n",
      "enter third number:4\n",
      "the median is 4.0\n"
     ]
    }
   ],
   "source": [
    "## median of 3 numbers\n",
    "a=float(input(\"enter first number:\"))\n",
    "b=float(input(\"enter second number:\"))\n",
    "c=float(input(\"enter third number:\"))\n",
    "if a>b:\n",
    "    if a<c:\n",
    "        median=a\n",
    "    elif b>c:\n",
    "        median=b\n",
    "    else:\n",
    "        median=c\n",
    "else:\n",
    "    if a>c:\n",
    "        median=a\n",
    "    elif b<c:\n",
    "        median=b\n",
    "    else:\n",
    "        median=c\n",
    "print(\"the median is\",median)"
   ]
  },
  {
   "cell_type": "code",
   "execution_count": 5,
   "metadata": {},
   "outputs": [
    {
     "name": "stdout",
     "output_type": "stream",
     "text": [
      "enter a string:abbccaabbccaaa\n",
      "2\n"
     ]
    }
   ],
   "source": [
    "#counting no.of pairs\n",
    "string=input(\"enter a string:\")\n",
    "print(string.count(\"aa\"))"
   ]
  },
  {
   "cell_type": "code",
   "execution_count": 6,
   "metadata": {},
   "outputs": [
    {
     "name": "stdout",
     "output_type": "stream",
     "text": [
      "enter your string123abc4f\n",
      "total:- 10\n"
     ]
    }
   ],
   "source": [
    "#sum of digits in a string\n",
    "inputstr=input(\"enter your string\")\n",
    "sum_total=0\n",
    "for X in inputstr:\n",
    "    if X.isdigit():\n",
    "        sum_total+= int(X)\n",
    "print(\"total:-\",sum_total)"
   ]
  },
  {
   "cell_type": "code",
   "execution_count": 7,
   "metadata": {},
   "outputs": [
    {
     "name": "stdout",
     "output_type": "stream",
     "text": [
      "enter the string()()((((()))))\n",
      "7\n"
     ]
    }
   ],
   "source": [
    "#count no.of paranthesis\n",
    "str=input(\"enter the string\")\n",
    "c1=0\n",
    "c2=0\n",
    "for i in range(0,len(str)):\n",
    "    if(str[i]=='('):\n",
    "        c1=c1+1\n",
    "    else:\n",
    "        c2=c2+1\n",
    "if(c1==c2):\n",
    "    print(c1)"
   ]
  },
  {
   "cell_type": "code",
   "execution_count": 8,
   "metadata": {},
   "outputs": [
    {
     "name": "stdout",
     "output_type": "stream",
     "text": [
      "127\n",
      "848\n"
     ]
    }
   ],
   "source": [
    "## reverse of palindrome\n",
    "n=int(input())\n",
    "while True:\n",
    "    temp=n\n",
    "    rev=0\n",
    "    while(temp>0):\n",
    "        rem=temp%10\n",
    "        rev=rev*10+rem\n",
    "        temp=temp//10\n",
    "    if n==rev:\n",
    "        print(rev)\n",
    "        break\n",
    "    else:\n",
    "        n=n+rev\n",
    "        "
   ]
  },
  {
   "cell_type": "code",
   "execution_count": 2,
   "metadata": {},
   "outputs": [
    {
     "name": "stdout",
     "output_type": "stream",
     "text": [
      "please enter the maximum value:10\n",
      "9\n"
     ]
    }
   ],
   "source": [
    "#palindrome count in given range\n",
    "maximum = int(input(\"please enter the maximum value:\"))\n",
    "count=0\n",
    "for num in range(1,maximum + 1):\n",
    "    temp = num\n",
    "    reverse = 0\n",
    "    \n",
    "    while(temp>0):\n",
    "        remainder = temp % 10\n",
    "        reverse = (reverse * 10) + remainder\n",
    "        temp = temp //10\n",
    "    if(num == reverse):\n",
    "        count=count+1\n",
    "print(count)        "
   ]
  },
  {
   "cell_type": "code",
   "execution_count": 1,
   "metadata": {},
   "outputs": [
    {
     "name": "stdout",
     "output_type": "stream",
     "text": [
      "p u b o i f "
     ]
    }
   ],
   "source": [
    "def replaceCharacterType(str): \n",
    "    vowel = False\n",
    "    consonant = False\n",
    "    for i in range(0, len(str)):           \n",
    "        ch = str[i]    \n",
    "        if ( (ch >= 'a' and ch <= 'z') or \n",
    "             (ch >= 'A' and ch <= 'Z') ):  \n",
    "            if(isVowel(ch)):\n",
    "                vowel = True\n",
    "            else:\n",
    "                consonant = True\n",
    "            if (vowel == True): \n",
    "                print(chr(ord(ch) + 1), end =\" \")\n",
    "                vowel = False\n",
    "            else: \n",
    "                i=1\n",
    "                while True:\n",
    "                    tmp = chr(ord(ch)+i)\n",
    "                    if (isVowel(tmp)):\n",
    "                        print(tmp, end =\" \")\n",
    "                        break\n",
    "                    else:\n",
    "                        i +=1\n",
    "\n",
    "def isVowel(ch):\n",
    "    ch = ch.lower()   \n",
    "    if (ch == 'a' or ch == 'e' or ch == 'i' \n",
    "            or ch == 'o' or ch == 'u'):\n",
    "                return True\n",
    "    else:\n",
    "        return False\n",
    "str = \"orange\"\n",
    "replaceCharacterType(str)\n"
   ]
  }
 ],
 "metadata": {
  "kernelspec": {
   "display_name": "Python 3",
   "language": "python",
   "name": "python3"
  },
  "language_info": {
   "codemirror_mode": {
    "name": "ipython",
    "version": 3
   },
   "file_extension": ".py",
   "mimetype": "text/x-python",
   "name": "python",
   "nbconvert_exporter": "python",
   "pygments_lexer": "ipython3",
   "version": "3.7.6"
  }
 },
 "nbformat": 4,
 "nbformat_minor": 4
}
