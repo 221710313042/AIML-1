{
 "cells": [
  {
   "cell_type": "code",
   "execution_count": 2,
   "metadata": {},
   "outputs": [
    {
     "name": "stdout",
     "output_type": "stream",
     "text": [
      "display multiplication table of ?7\n",
      "7 X 1 = 7\n",
      "7 X 2 = 14\n",
      "7 X 3 = 21\n",
      "7 X 4 = 28\n",
      "7 X 5 = 35\n",
      "7 X 6 = 42\n",
      "7 X 7 = 49\n",
      "7 X 8 = 56\n",
      "7 X 9 = 63\n",
      "7 X 10 = 70\n"
     ]
    }
   ],
   "source": [
    "#multiplication table\n",
    "\n",
    "num=int(input(\"display multiplication table of ?\"))\n",
    "for i in range(1, 11):\n",
    "    print(num,'X',i,'=', num * i)"
   ]
  },
  {
   "cell_type": "code",
   "execution_count": 3,
   "metadata": {},
   "outputs": [
    {
     "name": "stdout",
     "output_type": "stream",
     "text": [
      "enter the number of rows5\n",
      "* \n",
      "* * \n",
      "* * * \n",
      "* * * * \n",
      "* * * * * \n"
     ]
    }
   ],
   "source": [
    "##### printing the given pattern\n",
    "\n",
    "num = int(input(\"enter the number of rows\"))\n",
    "for i in range(0,num):\n",
    "    for j in range(0,i + 1):\n",
    "        print(\"*\", end=' ')\n",
    "        \n",
    "    print(\"\\r\")"
   ]
  },
  {
   "cell_type": "code",
   "execution_count": 4,
   "metadata": {},
   "outputs": [
    {
     "name": "stdout",
     "output_type": "stream",
     "text": [
      "enter the value of 'n':5\n",
      "fibonacci series:  0 1 1 2 3 "
     ]
    }
   ],
   "source": [
    "##### fibonacci series\n",
    "\n",
    "n=int(input(\"enter the value of 'n':\"))\n",
    "a=0\n",
    "b=1\n",
    "sum=0\n",
    "count=1\n",
    "print(\"fibonacci series: \",end=\" \")\n",
    "while(count<=n):\n",
    "    print(sum,end=\" \")\n",
    "    count+=1\n",
    "    a=b\n",
    "    b=sum\n",
    "    sum=a+b"
   ]
  },
  {
   "cell_type": "code",
   "execution_count": 6,
   "metadata": {},
   "outputs": [
    {
     "name": "stdout",
     "output_type": "stream",
     "text": [
      "enter a coefficient1\n",
      "enter b coefficient6\n",
      "enter c coefficient5\n",
      "the roots are -1.0 -5.0\n"
     ]
    }
   ],
   "source": [
    "#roots of quadratic\n",
    "\n",
    "import math\n",
    "a = int(input(\"enter a coefficient\"))\n",
    "b = int(input(\"enter b coefficient\"))\n",
    "c = int(input(\"enter c coefficient\"))\n",
    "d = b * b - 4 * a * c\n",
    "if(d > 0):\n",
    "    root1 = (-b + math.sqrt(d)) / (2 * a)    \n",
    "    root2 =(-b - math.sqrt(d)) / (2 * a) \n",
    "    print(\"the roots are\",root1,root2)\n",
    "elif(d==0):\n",
    "    root1 = root2 = -b / (2 * a)\n",
    "    print(\"roots are\",root1)\n",
    "else:\n",
    "    realpart = -b / (2 * a)\n",
    "    imgpart = math.sqrt(-d) / (2 * a)\n",
    "    print(\"roots are\",realpart,imgpart)"
   ]
  },
  {
   "cell_type": "code",
   "execution_count": 7,
   "metadata": {},
   "outputs": [
    {
     "name": "stdout",
     "output_type": "stream",
     "text": [
      "enter decimal:8\n",
      "the binary form of the given number is  0 .\n",
      "the binary form of the given number is  0 .\n",
      "the binary form of the given number is  0 .\n",
      "the binary form of the given number is  1000 .\n"
     ]
    }
   ],
   "source": [
    "#converting decimal to binary\n",
    "\n",
    "i=1\n",
    "s=0\n",
    "n=int(input(\"enter decimal:\"))\n",
    "while n>0:\n",
    "    rem=int(n%2)\n",
    "    s=s+(i*rem)\n",
    "    n=int(n/2)\n",
    "    i=i*10\n",
    "    print(\"the binary form of the given number is \",s,'.')"
   ]
  },
  {
   "cell_type": "code",
   "execution_count": null,
   "metadata": {},
   "outputs": [],
   "source": []
  }
 ],
 "metadata": {
  "kernelspec": {
   "display_name": "Python 3",
   "language": "python",
   "name": "python3"
  },
  "language_info": {
   "codemirror_mode": {
    "name": "ipython",
    "version": 3
   },
   "file_extension": ".py",
   "mimetype": "text/x-python",
   "name": "python",
   "nbconvert_exporter": "python",
   "pygments_lexer": "ipython3",
   "version": "3.7.6"
  }
 },
 "nbformat": 4,
 "nbformat_minor": 4
}
